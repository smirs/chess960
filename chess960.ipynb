{
 "cells": [
  {
   "cell_type": "code",
   "execution_count": 1,
   "metadata": {},
   "outputs": [],
   "source": [
    "import random"
   ]
  },
  {
   "cell_type": "code",
   "execution_count": 2,
   "metadata": {},
   "outputs": [],
   "source": [
    "def get_positions(piece_name, lis):\n",
    "    '''\n",
    "    input: (1) name of a target chess piece and, (2) a list including a combinations of pieces\n",
    "    output: list of the position(s) of the given piece in the given list\n",
    "    '''\n",
    "    return [i for i, x in enumerate(lis) if x == piece_name]"
   ]
  },
  {
   "cell_type": "code",
   "execution_count": 3,
   "metadata": {},
   "outputs": [],
   "source": [
    "def shuffle():\n",
    "    '''\n",
    "    generate a fresh random back_row\n",
    "    '''\n",
    "    back_row = []\n",
    "    poll = ['♔', '♕', '♖', '♖', '♘', '♘', '♗', '♗']\n",
    "    for i in range(0, 8):\n",
    "        randomPick = random.choice(poll)\n",
    "        back_row.append(randomPick)\n",
    "        poll.remove(randomPick)\n",
    "    return back_row\n",
    "\n",
    "def king_cond(lis):\n",
    "    '''\n",
    "    checking weather king is between the rocks and returns True/False\n",
    "    '''\n",
    "    return (get_positions('♔', lis)[0] > get_positions('♖', lis)[0]) & (get_positions('♔', lis)[0] < get_positions('♖', lis)[1])\n",
    "\n",
    "def shop_cond(lis):\n",
    "    '''\n",
    "    checking weather bishops are in opposite colors and returns True/False\n",
    "    '''\n",
    "    return sum(get_positions('♗', lis)) % 2 == 0\n"
   ]
  },
  {
   "cell_type": "code",
   "execution_count": 5,
   "metadata": {},
   "outputs": [
    {
     "data": {
      "text/plain": [
       "['♕', '♘', '♖', '♔', '♖', '♗', '♘', '♗']"
      ]
     },
     "execution_count": 5,
     "metadata": {},
     "output_type": "execute_result"
    }
   ],
   "source": [
    "# initiate the back_row and assume that's the good one!\n",
    "good_back_row = shuffle()\n",
    "\n",
    "# keep shuffling until conditions met\n",
    "while not (king_cond(good_back_row) & shop_cond(good_back_row)):\n",
    "    good_back_row = shuffle() # shuffle back_row and update the good_back_row\n",
    "    #print(good_back_row)\n",
    "\n",
    "good_back_row"
   ]
  },
  {
   "cell_type": "code",
   "execution_count": null,
   "metadata": {},
   "outputs": [],
   "source": []
  }
 ],
 "metadata": {
  "kernelspec": {
   "display_name": "Python 3",
   "language": "python",
   "name": "python3"
  },
  "language_info": {
   "codemirror_mode": {
    "name": "ipython",
    "version": 3
   },
   "file_extension": ".py",
   "mimetype": "text/x-python",
   "name": "python",
   "nbconvert_exporter": "python",
   "pygments_lexer": "ipython3",
   "version": "3.7.4"
  }
 },
 "nbformat": 4,
 "nbformat_minor": 4
}
